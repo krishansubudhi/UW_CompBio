{
 "cells": [
  {
   "cell_type": "markdown",
   "metadata": {},
   "source": [
    "# Train,Test Data"
   ]
  },
  {
   "cell_type": "code",
   "execution_count": 1,
   "metadata": {},
   "outputs": [],
   "source": [
    "\n",
    "import sys\n",
    "sys.path.append('..')\n",
    "\n",
    "import assignment3\n",
    "# import importlib\n",
    "# importlib.reload(assignment3.evaluator)\n",
    "\n",
    "from assignment3.iteration import EMProcess\n",
    "from assignment3.evaluator import Evaluator\n",
    "from assignment3.utils import *\n",
    "from assignment3.build_matrices import *\n",
    "from assignment3.em import *\n",
    "import matplotlib.pyplot as plt"
   ]
  },
  {
   "cell_type": "code",
   "execution_count": 2,
   "metadata": {},
   "outputs": [
    {
     "name": "stdout",
     "output_type": "stream",
     "text": [
      "Initialization pseudo_counts =  [0.0625, 0.0625, 0.0625, 0.0625]\n"
     ]
    }
   ],
   "source": [
    "train_files = ['../data/hw3-debug-train.fasta']\n",
    "test_files = ['../data/hw3-debug-test.fasta']\n",
    "train_sequences = get_seqs_from_files(train_files)\n",
    "test_sequences = get_seqs_from_files(test_files)\n",
    "k = 10\n",
    "background = [0.25]*4\n",
    "pseudo_counts = get_pseudo_count_vector()\n",
    "print('Initialization pseudo_counts = ', pseudo_counts)"
   ]
  },
  {
   "cell_type": "markdown",
   "metadata": {},
   "source": [
    "# EM step"
   ]
  },
  {
   "cell_type": "code",
   "execution_count": 3,
   "metadata": {},
   "outputs": [],
   "source": [
    "def get_entropies(processes):\n",
    "    entropies = np.array([p.wmm.entropy for p in processes])\n",
    "    return entropies"
   ]
  },
  {
   "cell_type": "code",
   "execution_count": 4,
   "metadata": {},
   "outputs": [],
   "source": [
    "seeds = get_seed_kmers(train_sequences[0] ,k)\n",
    "\n",
    "processes = []\n",
    "all_entropies = {}\n",
    "for seed in seeds:\n",
    "    process = EMProcess(train_sequences, k , background)\n",
    "    processes.append(process)\n",
    "    process.initialize(seed,pseudo_counts)\n"
   ]
  },
  {
   "cell_type": "code",
   "execution_count": 5,
   "metadata": {},
   "outputs": [
    {
     "name": "stderr",
     "output_type": "stream",
     "text": [
      "..\\assignment3\\em.py:38: VisibleDeprecationWarning: Creating an ndarray from ragged nested sequences (which is a list-or-tuple of lists-or-tuples-or ndarrays with different lengths or shapes) is deprecated. If you meant to do this, you must specify 'dtype=object' when creating the ndarray\n",
      "  E_zij = np.array(E_zij)\n"
     ]
    }
   ],
   "source": [
    "\n",
    "for i in range(3):\n",
    "    for process in processes:\n",
    "        process.iterate()\n",
    "    all_entropies[i+1] = get_entropies(processes)\n"
   ]
  },
  {
   "cell_type": "markdown",
   "metadata": {},
   "source": [
    "### ABC\n",
    "\n",
    "For each of the S seed WMMs defined in \"Initialization,\" do three E-step/M-step pairs. Among the resulting S WMMs, select three WMMs: the ones attaining the highest entropy (relative to background), the median entropy, and the lowest entropy. Call these WMMs A, B and C, respectively.\n",
    "\n"
   ]
  },
  {
   "cell_type": "code",
   "execution_count": 6,
   "metadata": {
    "scrolled": true
   },
   "outputs": [
    {
     "name": "stdout",
     "output_type": "stream",
     "text": [
      "highest, median, lowest =  13 9 5\n",
      "[6.0366864  6.00591546 7.59633757 6.28944926 4.96636378 4.66229794\n",
      " 5.09199165 7.14874519 6.18835734 6.42046329 8.73607523 6.60085077\n",
      " 6.30143969 9.00193825 7.4476673  8.26240343 5.33959764 6.75215258\n",
      " 7.63083862 5.90435029 7.34306738]\n"
     ]
    }
   ],
   "source": [
    "entropies = np.array([p.wmm.entropy for p in processes])\n",
    "\n",
    "\n",
    "highest, median, lowest = np.argmax(entropies), np.argsort(entropies)[len(entropies)//2], np.argmin(entropies)\n",
    "print('highest, median, lowest = ',highest, median, lowest)\n",
    "print(entropies)"
   ]
  },
  {
   "cell_type": "code",
   "execution_count": 7,
   "metadata": {},
   "outputs": [],
   "source": [
    "import copy\n",
    "A, B, C = processes[highest].wmm, processes[median].wmm, processes[lowest].wmm\n",
    "A,B,C = copy.deepcopy(A),copy.deepcopy(B),copy.deepcopy(C)\n"
   ]
  },
  {
   "cell_type": "markdown",
   "metadata": {},
   "source": [
    "### Additional 7 rounds \n",
    "Run an additional 7 E-step/M-step pairs on all S of the third-round WMMs (a total of 10 E-M rounds on each). "
   ]
  },
  {
   "cell_type": "code",
   "execution_count": 8,
   "metadata": {},
   "outputs": [],
   "source": [
    "for i in range(7):\n",
    "    for process in processes:\n",
    "        process.iterate()\n",
    "    all_entropies[i+1+3] = get_entropies(processes)"
   ]
  },
  {
   "cell_type": "markdown",
   "metadata": {},
   "source": [
    "### D\n",
    "Select as your final \"motif\" the best (highest entropy) of the S candidates after round 10; call this WMM D."
   ]
  },
  {
   "cell_type": "code",
   "execution_count": 9,
   "metadata": {},
   "outputs": [
    {
     "name": "stdout",
     "output_type": "stream",
     "text": [
      "[6.27061704 7.19658653 8.14501818 8.2538409  7.41105493 6.29834505\n",
      " 6.43548827 7.27970632 7.98058162 6.62747426 8.79883975 7.22871599\n",
      " 7.13318311 8.99686437 7.56541872 8.58213869 7.64716291 7.75489931\n",
      " 8.88358957 7.20347066 7.70935027]\n"
     ]
    }
   ],
   "source": [
    "entropies_7 = np.array([p.wmm.entropy for p in processes])\n",
    "print(entropies_7)\n",
    "D = processes[np.argmax(entropies_7)].wmm\n"
   ]
  },
  {
   "cell_type": "markdown",
   "metadata": {},
   "source": [
    "### Entropy table \n",
    "As a simple descriptive summary of this process, print in a tidy-ish S row by 11 column table the entropies of each seed WMM and its 10 successive E-M-refined iterates."
   ]
  },
  {
   "cell_type": "code",
   "execution_count": 10,
   "metadata": {},
   "outputs": [
    {
     "name": "stdout",
     "output_type": "stream",
     "text": [
      "Entropy : rows = seed numbers, columns = EM iterations\n"
     ]
    },
    {
     "data": {
      "text/html": [
       "<div>\n",
       "<style scoped>\n",
       "    .dataframe tbody tr th:only-of-type {\n",
       "        vertical-align: middle;\n",
       "    }\n",
       "\n",
       "    .dataframe tbody tr th {\n",
       "        vertical-align: top;\n",
       "    }\n",
       "\n",
       "    .dataframe thead th {\n",
       "        text-align: right;\n",
       "    }\n",
       "</style>\n",
       "<table border=\"1\" class=\"dataframe\">\n",
       "  <thead>\n",
       "    <tr style=\"text-align: right;\">\n",
       "      <th></th>\n",
       "      <th>seed</th>\n",
       "      <th>1</th>\n",
       "      <th>2</th>\n",
       "      <th>3</th>\n",
       "      <th>4</th>\n",
       "      <th>5</th>\n",
       "      <th>6</th>\n",
       "      <th>7</th>\n",
       "      <th>8</th>\n",
       "      <th>9</th>\n",
       "      <th>10</th>\n",
       "    </tr>\n",
       "  </thead>\n",
       "  <tbody>\n",
       "    <tr>\n",
       "      <th>0</th>\n",
       "      <td>ATTTTTATTC</td>\n",
       "      <td>5.203701</td>\n",
       "      <td>5.676604</td>\n",
       "      <td>6.036686</td>\n",
       "      <td>6.165846</td>\n",
       "      <td>6.217892</td>\n",
       "      <td>6.243589</td>\n",
       "      <td>6.256882</td>\n",
       "      <td>6.263914</td>\n",
       "      <td>6.267940</td>\n",
       "      <td>6.270617</td>\n",
       "    </tr>\n",
       "    <tr>\n",
       "      <th>1</th>\n",
       "      <td>TATTCATCAA</td>\n",
       "      <td>4.849058</td>\n",
       "      <td>5.410272</td>\n",
       "      <td>6.005915</td>\n",
       "      <td>6.438454</td>\n",
       "      <td>6.816174</td>\n",
       "      <td>7.069016</td>\n",
       "      <td>7.168652</td>\n",
       "      <td>7.191362</td>\n",
       "      <td>7.195743</td>\n",
       "      <td>7.196587</td>\n",
       "    </tr>\n",
       "    <tr>\n",
       "      <th>2</th>\n",
       "      <td>ATCAAGTGTT</td>\n",
       "      <td>5.441284</td>\n",
       "      <td>6.895772</td>\n",
       "      <td>7.596338</td>\n",
       "      <td>7.733638</td>\n",
       "      <td>7.755860</td>\n",
       "      <td>7.763748</td>\n",
       "      <td>7.772296</td>\n",
       "      <td>7.780438</td>\n",
       "      <td>7.830060</td>\n",
       "      <td>8.145018</td>\n",
       "    </tr>\n",
       "    <tr>\n",
       "      <th>3</th>\n",
       "      <td>GTGTTTACTG</td>\n",
       "      <td>4.787766</td>\n",
       "      <td>5.285468</td>\n",
       "      <td>6.289449</td>\n",
       "      <td>7.108298</td>\n",
       "      <td>7.351522</td>\n",
       "      <td>7.412295</td>\n",
       "      <td>7.500191</td>\n",
       "      <td>7.832686</td>\n",
       "      <td>8.188286</td>\n",
       "      <td>8.253841</td>\n",
       "    </tr>\n",
       "    <tr>\n",
       "      <th>4</th>\n",
       "      <td>TACTGTTTTA</td>\n",
       "      <td>4.469895</td>\n",
       "      <td>4.584750</td>\n",
       "      <td>4.966364</td>\n",
       "      <td>5.536972</td>\n",
       "      <td>6.132602</td>\n",
       "      <td>6.444009</td>\n",
       "      <td>6.558639</td>\n",
       "      <td>6.700974</td>\n",
       "      <td>7.018237</td>\n",
       "      <td>7.411055</td>\n",
       "    </tr>\n",
       "    <tr>\n",
       "      <th>5</th>\n",
       "      <td>TTTTATAACA</td>\n",
       "      <td>3.849426</td>\n",
       "      <td>4.080775</td>\n",
       "      <td>4.662298</td>\n",
       "      <td>5.380285</td>\n",
       "      <td>5.974388</td>\n",
       "      <td>6.227969</td>\n",
       "      <td>6.295358</td>\n",
       "      <td>6.308487</td>\n",
       "      <td>6.305772</td>\n",
       "      <td>6.298345</td>\n",
       "    </tr>\n",
       "    <tr>\n",
       "      <th>6</th>\n",
       "      <td>TAACAAGCAA</td>\n",
       "      <td>4.628393</td>\n",
       "      <td>4.758277</td>\n",
       "      <td>5.091992</td>\n",
       "      <td>5.347425</td>\n",
       "      <td>5.636909</td>\n",
       "      <td>5.938211</td>\n",
       "      <td>6.164258</td>\n",
       "      <td>6.320193</td>\n",
       "      <td>6.404022</td>\n",
       "      <td>6.435488</td>\n",
       "    </tr>\n",
       "    <tr>\n",
       "      <th>7</th>\n",
       "      <td>AGCAAACTTG</td>\n",
       "      <td>6.288254</td>\n",
       "      <td>6.860986</td>\n",
       "      <td>7.148745</td>\n",
       "      <td>7.255741</td>\n",
       "      <td>7.278211</td>\n",
       "      <td>7.282411</td>\n",
       "      <td>7.282343</td>\n",
       "      <td>7.281412</td>\n",
       "      <td>7.280475</td>\n",
       "      <td>7.279706</td>\n",
       "    </tr>\n",
       "    <tr>\n",
       "      <th>8</th>\n",
       "      <td>ACTTGCAGTT</td>\n",
       "      <td>5.268643</td>\n",
       "      <td>5.761569</td>\n",
       "      <td>6.188357</td>\n",
       "      <td>6.380360</td>\n",
       "      <td>6.504757</td>\n",
       "      <td>6.753694</td>\n",
       "      <td>7.363905</td>\n",
       "      <td>7.697666</td>\n",
       "      <td>7.837666</td>\n",
       "      <td>7.980582</td>\n",
       "    </tr>\n",
       "    <tr>\n",
       "      <th>9</th>\n",
       "      <td>CAGTTTCAGC</td>\n",
       "      <td>6.136594</td>\n",
       "      <td>6.369696</td>\n",
       "      <td>6.420463</td>\n",
       "      <td>6.435166</td>\n",
       "      <td>6.464321</td>\n",
       "      <td>6.509038</td>\n",
       "      <td>6.554067</td>\n",
       "      <td>6.587752</td>\n",
       "      <td>6.610221</td>\n",
       "      <td>6.627474</td>\n",
       "    </tr>\n",
       "    <tr>\n",
       "      <th>10</th>\n",
       "      <td>TCAGCTGCTT</td>\n",
       "      <td>6.227949</td>\n",
       "      <td>7.514722</td>\n",
       "      <td>8.736075</td>\n",
       "      <td>8.836246</td>\n",
       "      <td>8.827021</td>\n",
       "      <td>8.817238</td>\n",
       "      <td>8.810210</td>\n",
       "      <td>8.805198</td>\n",
       "      <td>8.801551</td>\n",
       "      <td>8.798840</td>\n",
       "    </tr>\n",
       "    <tr>\n",
       "      <th>11</th>\n",
       "      <td>TGCTTGTTGC</td>\n",
       "      <td>5.999134</td>\n",
       "      <td>6.321143</td>\n",
       "      <td>6.600851</td>\n",
       "      <td>6.767623</td>\n",
       "      <td>6.867797</td>\n",
       "      <td>7.018775</td>\n",
       "      <td>7.147665</td>\n",
       "      <td>7.203728</td>\n",
       "      <td>7.223766</td>\n",
       "      <td>7.228716</td>\n",
       "    </tr>\n",
       "    <tr>\n",
       "      <th>12</th>\n",
       "      <td>GTTGCAACAG</td>\n",
       "      <td>5.552891</td>\n",
       "      <td>5.765230</td>\n",
       "      <td>6.301440</td>\n",
       "      <td>6.730060</td>\n",
       "      <td>6.934079</td>\n",
       "      <td>7.025731</td>\n",
       "      <td>7.073007</td>\n",
       "      <td>7.101651</td>\n",
       "      <td>7.120522</td>\n",
       "      <td>7.133183</td>\n",
       "    </tr>\n",
       "    <tr>\n",
       "      <th>13</th>\n",
       "      <td>AACAGCTGTT</td>\n",
       "      <td>8.254475</td>\n",
       "      <td>8.957594</td>\n",
       "      <td>9.001938</td>\n",
       "      <td>9.000929</td>\n",
       "      <td>8.998932</td>\n",
       "      <td>8.997833</td>\n",
       "      <td>8.997294</td>\n",
       "      <td>8.997038</td>\n",
       "      <td>8.996919</td>\n",
       "      <td>8.996864</td>\n",
       "    </tr>\n",
       "    <tr>\n",
       "      <th>14</th>\n",
       "      <td>CTGTTGGTTT</td>\n",
       "      <td>5.644517</td>\n",
       "      <td>6.937086</td>\n",
       "      <td>7.447667</td>\n",
       "      <td>7.539962</td>\n",
       "      <td>7.558581</td>\n",
       "      <td>7.563386</td>\n",
       "      <td>7.564796</td>\n",
       "      <td>7.565234</td>\n",
       "      <td>7.565373</td>\n",
       "      <td>7.565419</td>\n",
       "    </tr>\n",
       "    <tr>\n",
       "      <th>15</th>\n",
       "      <td>GGTTTCTCTC</td>\n",
       "      <td>6.370551</td>\n",
       "      <td>7.689707</td>\n",
       "      <td>8.262403</td>\n",
       "      <td>8.431349</td>\n",
       "      <td>8.548988</td>\n",
       "      <td>8.577485</td>\n",
       "      <td>8.581460</td>\n",
       "      <td>8.582025</td>\n",
       "      <td>8.582120</td>\n",
       "      <td>8.582139</td>\n",
       "    </tr>\n",
       "    <tr>\n",
       "      <th>16</th>\n",
       "      <td>CTCTCTCAAG</td>\n",
       "      <td>4.785803</td>\n",
       "      <td>4.831115</td>\n",
       "      <td>5.339598</td>\n",
       "      <td>6.264326</td>\n",
       "      <td>7.236475</td>\n",
       "      <td>7.590741</td>\n",
       "      <td>7.639995</td>\n",
       "      <td>7.646149</td>\n",
       "      <td>7.647024</td>\n",
       "      <td>7.647163</td>\n",
       "    </tr>\n",
       "    <tr>\n",
       "      <th>17</th>\n",
       "      <td>TCAAGCAGCT</td>\n",
       "      <td>6.176236</td>\n",
       "      <td>6.344265</td>\n",
       "      <td>6.752153</td>\n",
       "      <td>7.279469</td>\n",
       "      <td>7.545990</td>\n",
       "      <td>7.633163</td>\n",
       "      <td>7.666746</td>\n",
       "      <td>7.693190</td>\n",
       "      <td>7.723764</td>\n",
       "      <td>7.754899</td>\n",
       "    </tr>\n",
       "    <tr>\n",
       "      <th>18</th>\n",
       "      <td>CAGCTGTGGG</td>\n",
       "      <td>6.346978</td>\n",
       "      <td>6.950602</td>\n",
       "      <td>7.630839</td>\n",
       "      <td>8.066035</td>\n",
       "      <td>8.724270</td>\n",
       "      <td>8.808395</td>\n",
       "      <td>8.814366</td>\n",
       "      <td>8.828980</td>\n",
       "      <td>8.854444</td>\n",
       "      <td>8.883590</td>\n",
       "    </tr>\n",
       "    <tr>\n",
       "      <th>19</th>\n",
       "      <td>GTGGGCTGGG</td>\n",
       "      <td>5.177033</td>\n",
       "      <td>5.585811</td>\n",
       "      <td>5.904350</td>\n",
       "      <td>6.091106</td>\n",
       "      <td>6.328907</td>\n",
       "      <td>6.624602</td>\n",
       "      <td>6.887385</td>\n",
       "      <td>7.060060</td>\n",
       "      <td>7.158476</td>\n",
       "      <td>7.203471</td>\n",
       "    </tr>\n",
       "    <tr>\n",
       "      <th>20</th>\n",
       "      <td>CTGGGGTGGG</td>\n",
       "      <td>5.799156</td>\n",
       "      <td>6.437527</td>\n",
       "      <td>7.343067</td>\n",
       "      <td>7.627682</td>\n",
       "      <td>7.684427</td>\n",
       "      <td>7.700990</td>\n",
       "      <td>7.706498</td>\n",
       "      <td>7.708416</td>\n",
       "      <td>7.709101</td>\n",
       "      <td>7.709350</td>\n",
       "    </tr>\n",
       "  </tbody>\n",
       "</table>\n",
       "</div>"
      ],
      "text/plain": [
       "          seed         1         2         3         4         5         6  \\\n",
       "0   ATTTTTATTC  5.203701  5.676604  6.036686  6.165846  6.217892  6.243589   \n",
       "1   TATTCATCAA  4.849058  5.410272  6.005915  6.438454  6.816174  7.069016   \n",
       "2   ATCAAGTGTT  5.441284  6.895772  7.596338  7.733638  7.755860  7.763748   \n",
       "3   GTGTTTACTG  4.787766  5.285468  6.289449  7.108298  7.351522  7.412295   \n",
       "4   TACTGTTTTA  4.469895  4.584750  4.966364  5.536972  6.132602  6.444009   \n",
       "5   TTTTATAACA  3.849426  4.080775  4.662298  5.380285  5.974388  6.227969   \n",
       "6   TAACAAGCAA  4.628393  4.758277  5.091992  5.347425  5.636909  5.938211   \n",
       "7   AGCAAACTTG  6.288254  6.860986  7.148745  7.255741  7.278211  7.282411   \n",
       "8   ACTTGCAGTT  5.268643  5.761569  6.188357  6.380360  6.504757  6.753694   \n",
       "9   CAGTTTCAGC  6.136594  6.369696  6.420463  6.435166  6.464321  6.509038   \n",
       "10  TCAGCTGCTT  6.227949  7.514722  8.736075  8.836246  8.827021  8.817238   \n",
       "11  TGCTTGTTGC  5.999134  6.321143  6.600851  6.767623  6.867797  7.018775   \n",
       "12  GTTGCAACAG  5.552891  5.765230  6.301440  6.730060  6.934079  7.025731   \n",
       "13  AACAGCTGTT  8.254475  8.957594  9.001938  9.000929  8.998932  8.997833   \n",
       "14  CTGTTGGTTT  5.644517  6.937086  7.447667  7.539962  7.558581  7.563386   \n",
       "15  GGTTTCTCTC  6.370551  7.689707  8.262403  8.431349  8.548988  8.577485   \n",
       "16  CTCTCTCAAG  4.785803  4.831115  5.339598  6.264326  7.236475  7.590741   \n",
       "17  TCAAGCAGCT  6.176236  6.344265  6.752153  7.279469  7.545990  7.633163   \n",
       "18  CAGCTGTGGG  6.346978  6.950602  7.630839  8.066035  8.724270  8.808395   \n",
       "19  GTGGGCTGGG  5.177033  5.585811  5.904350  6.091106  6.328907  6.624602   \n",
       "20  CTGGGGTGGG  5.799156  6.437527  7.343067  7.627682  7.684427  7.700990   \n",
       "\n",
       "           7         8         9        10  \n",
       "0   6.256882  6.263914  6.267940  6.270617  \n",
       "1   7.168652  7.191362  7.195743  7.196587  \n",
       "2   7.772296  7.780438  7.830060  8.145018  \n",
       "3   7.500191  7.832686  8.188286  8.253841  \n",
       "4   6.558639  6.700974  7.018237  7.411055  \n",
       "5   6.295358  6.308487  6.305772  6.298345  \n",
       "6   6.164258  6.320193  6.404022  6.435488  \n",
       "7   7.282343  7.281412  7.280475  7.279706  \n",
       "8   7.363905  7.697666  7.837666  7.980582  \n",
       "9   6.554067  6.587752  6.610221  6.627474  \n",
       "10  8.810210  8.805198  8.801551  8.798840  \n",
       "11  7.147665  7.203728  7.223766  7.228716  \n",
       "12  7.073007  7.101651  7.120522  7.133183  \n",
       "13  8.997294  8.997038  8.996919  8.996864  \n",
       "14  7.564796  7.565234  7.565373  7.565419  \n",
       "15  8.581460  8.582025  8.582120  8.582139  \n",
       "16  7.639995  7.646149  7.647024  7.647163  \n",
       "17  7.666746  7.693190  7.723764  7.754899  \n",
       "18  8.814366  8.828980  8.854444  8.883590  \n",
       "19  6.887385  7.060060  7.158476  7.203471  \n",
       "20  7.706498  7.708416  7.709101  7.709350  "
      ]
     },
     "execution_count": 10,
     "metadata": {},
     "output_type": "execute_result"
    }
   ],
   "source": [
    "import pandas as pd\n",
    "table = pd.DataFrame(all_entropies)\n",
    "table['seed'] = seeds \n",
    "table = table[['seed'] + table.columns.tolist()[:-1]]\n",
    "table.style.set_caption(\"Entropy : rows = seed numbers, columns = EM iterations\")\n",
    "print(\"Entropy : rows = seed numbers, columns = EM iterations\")\n",
    "table"
   ]
  },
  {
   "cell_type": "markdown",
   "metadata": {},
   "source": [
    "### Also print the frequency matrices for WMMs A, B, C, and D."
   ]
  },
  {
   "cell_type": "code",
   "execution_count": 11,
   "metadata": {},
   "outputs": [
    {
     "name": "stdout",
     "output_type": "stream",
     "text": [
      "\n",
      "\n",
      "Frequency matrix for A\n"
     ]
    },
    {
     "data": {
      "text/html": [
       "<div>\n",
       "<style scoped>\n",
       "    .dataframe tbody tr th:only-of-type {\n",
       "        vertical-align: middle;\n",
       "    }\n",
       "\n",
       "    .dataframe tbody tr th {\n",
       "        vertical-align: top;\n",
       "    }\n",
       "\n",
       "    .dataframe thead th {\n",
       "        text-align: right;\n",
       "    }\n",
       "</style>\n",
       "<table border=\"1\" class=\"dataframe\">\n",
       "  <thead>\n",
       "    <tr style=\"text-align: right;\">\n",
       "      <th></th>\n",
       "      <th>1</th>\n",
       "      <th>2</th>\n",
       "      <th>3</th>\n",
       "      <th>4</th>\n",
       "      <th>5</th>\n",
       "      <th>6</th>\n",
       "      <th>7</th>\n",
       "      <th>8</th>\n",
       "      <th>9</th>\n",
       "      <th>10</th>\n",
       "    </tr>\n",
       "  </thead>\n",
       "  <tbody>\n",
       "    <tr>\n",
       "      <th>A</th>\n",
       "      <td>0.536699</td>\n",
       "      <td>0.353612</td>\n",
       "      <td>0.041787</td>\n",
       "      <td>0.873753</td>\n",
       "      <td>0.042180</td>\n",
       "      <td>0.050792</td>\n",
       "      <td>0.042112</td>\n",
       "      <td>0.041713</td>\n",
       "      <td>0.041693</td>\n",
       "      <td>0.041739</td>\n",
       "    </tr>\n",
       "    <tr>\n",
       "      <th>C</th>\n",
       "      <td>0.206439</td>\n",
       "      <td>0.386346</td>\n",
       "      <td>0.874761</td>\n",
       "      <td>0.042019</td>\n",
       "      <td>0.539222</td>\n",
       "      <td>0.864824</td>\n",
       "      <td>0.043334</td>\n",
       "      <td>0.042124</td>\n",
       "      <td>0.217058</td>\n",
       "      <td>0.197279</td>\n",
       "    </tr>\n",
       "    <tr>\n",
       "      <th>G</th>\n",
       "      <td>0.210514</td>\n",
       "      <td>0.217674</td>\n",
       "      <td>0.041727</td>\n",
       "      <td>0.041899</td>\n",
       "      <td>0.376762</td>\n",
       "      <td>0.042335</td>\n",
       "      <td>0.044199</td>\n",
       "      <td>0.874305</td>\n",
       "      <td>0.041715</td>\n",
       "      <td>0.054773</td>\n",
       "    </tr>\n",
       "    <tr>\n",
       "      <th>T</th>\n",
       "      <td>0.046349</td>\n",
       "      <td>0.042368</td>\n",
       "      <td>0.041726</td>\n",
       "      <td>0.042329</td>\n",
       "      <td>0.041836</td>\n",
       "      <td>0.042048</td>\n",
       "      <td>0.870355</td>\n",
       "      <td>0.041858</td>\n",
       "      <td>0.699535</td>\n",
       "      <td>0.706210</td>\n",
       "    </tr>\n",
       "  </tbody>\n",
       "</table>\n",
       "</div>"
      ],
      "text/plain": [
       "         1         2         3         4         5         6         7   \\\n",
       "A  0.536699  0.353612  0.041787  0.873753  0.042180  0.050792  0.042112   \n",
       "C  0.206439  0.386346  0.874761  0.042019  0.539222  0.864824  0.043334   \n",
       "G  0.210514  0.217674  0.041727  0.041899  0.376762  0.042335  0.044199   \n",
       "T  0.046349  0.042368  0.041726  0.042329  0.041836  0.042048  0.870355   \n",
       "\n",
       "         8         9         10  \n",
       "A  0.041713  0.041693  0.041739  \n",
       "C  0.042124  0.217058  0.197279  \n",
       "G  0.874305  0.041715  0.054773  \n",
       "T  0.041858  0.699535  0.706210  "
      ]
     },
     "execution_count": 11,
     "metadata": {},
     "output_type": "execute_result"
    }
   ],
   "source": [
    "fm = calculateProbabilities(A, background)\n",
    "print(f'\\n\\nFrequency matrix for A')\n",
    "fm"
   ]
  },
  {
   "cell_type": "code",
   "execution_count": 12,
   "metadata": {},
   "outputs": [
    {
     "name": "stdout",
     "output_type": "stream",
     "text": [
      "\n",
      "\n",
      "Frequency matrix for B\n"
     ]
    },
    {
     "data": {
      "text/html": [
       "<div>\n",
       "<style scoped>\n",
       "    .dataframe tbody tr th:only-of-type {\n",
       "        vertical-align: middle;\n",
       "    }\n",
       "\n",
       "    .dataframe tbody tr th {\n",
       "        vertical-align: top;\n",
       "    }\n",
       "\n",
       "    .dataframe thead th {\n",
       "        text-align: right;\n",
       "    }\n",
       "</style>\n",
       "<table border=\"1\" class=\"dataframe\">\n",
       "  <thead>\n",
       "    <tr style=\"text-align: right;\">\n",
       "      <th></th>\n",
       "      <th>1</th>\n",
       "      <th>2</th>\n",
       "      <th>3</th>\n",
       "      <th>4</th>\n",
       "      <th>5</th>\n",
       "      <th>6</th>\n",
       "      <th>7</th>\n",
       "      <th>8</th>\n",
       "      <th>9</th>\n",
       "      <th>10</th>\n",
       "    </tr>\n",
       "  </thead>\n",
       "  <tbody>\n",
       "    <tr>\n",
       "      <th>A</th>\n",
       "      <td>0.042933</td>\n",
       "      <td>0.371463</td>\n",
       "      <td>0.042295</td>\n",
       "      <td>0.042641</td>\n",
       "      <td>0.048520</td>\n",
       "      <td>0.155388</td>\n",
       "      <td>0.042215</td>\n",
       "      <td>0.493265</td>\n",
       "      <td>0.144223</td>\n",
       "      <td>0.050942</td>\n",
       "    </tr>\n",
       "    <tr>\n",
       "      <th>C</th>\n",
       "      <td>0.842866</td>\n",
       "      <td>0.150432</td>\n",
       "      <td>0.266255</td>\n",
       "      <td>0.252429</td>\n",
       "      <td>0.048021</td>\n",
       "      <td>0.401873</td>\n",
       "      <td>0.764792</td>\n",
       "      <td>0.076547</td>\n",
       "      <td>0.080627</td>\n",
       "      <td>0.699400</td>\n",
       "    </tr>\n",
       "    <tr>\n",
       "      <th>G</th>\n",
       "      <td>0.067274</td>\n",
       "      <td>0.044486</td>\n",
       "      <td>0.647639</td>\n",
       "      <td>0.245143</td>\n",
       "      <td>0.198869</td>\n",
       "      <td>0.049218</td>\n",
       "      <td>0.132168</td>\n",
       "      <td>0.042827</td>\n",
       "      <td>0.731365</td>\n",
       "      <td>0.206771</td>\n",
       "    </tr>\n",
       "    <tr>\n",
       "      <th>T</th>\n",
       "      <td>0.046928</td>\n",
       "      <td>0.433619</td>\n",
       "      <td>0.043811</td>\n",
       "      <td>0.459787</td>\n",
       "      <td>0.704590</td>\n",
       "      <td>0.393521</td>\n",
       "      <td>0.060825</td>\n",
       "      <td>0.387361</td>\n",
       "      <td>0.043786</td>\n",
       "      <td>0.042887</td>\n",
       "    </tr>\n",
       "  </tbody>\n",
       "</table>\n",
       "</div>"
      ],
      "text/plain": [
       "         1         2         3         4         5         6         7   \\\n",
       "A  0.042933  0.371463  0.042295  0.042641  0.048520  0.155388  0.042215   \n",
       "C  0.842866  0.150432  0.266255  0.252429  0.048021  0.401873  0.764792   \n",
       "G  0.067274  0.044486  0.647639  0.245143  0.198869  0.049218  0.132168   \n",
       "T  0.046928  0.433619  0.043811  0.459787  0.704590  0.393521  0.060825   \n",
       "\n",
       "         8         9         10  \n",
       "A  0.493265  0.144223  0.050942  \n",
       "C  0.076547  0.080627  0.699400  \n",
       "G  0.042827  0.731365  0.206771  \n",
       "T  0.387361  0.043786  0.042887  "
      ]
     },
     "execution_count": 12,
     "metadata": {},
     "output_type": "execute_result"
    }
   ],
   "source": [
    "fm = calculateProbabilities(B, background)\n",
    "print(f'\\n\\nFrequency matrix for B')\n",
    "fm"
   ]
  },
  {
   "cell_type": "code",
   "execution_count": 13,
   "metadata": {},
   "outputs": [
    {
     "name": "stdout",
     "output_type": "stream",
     "text": [
      "\n",
      "\n",
      "Frequency matrix for C\n"
     ]
    },
    {
     "data": {
      "text/html": [
       "<div>\n",
       "<style scoped>\n",
       "    .dataframe tbody tr th:only-of-type {\n",
       "        vertical-align: middle;\n",
       "    }\n",
       "\n",
       "    .dataframe tbody tr th {\n",
       "        vertical-align: top;\n",
       "    }\n",
       "\n",
       "    .dataframe thead th {\n",
       "        text-align: right;\n",
       "    }\n",
       "</style>\n",
       "<table border=\"1\" class=\"dataframe\">\n",
       "  <thead>\n",
       "    <tr style=\"text-align: right;\">\n",
       "      <th></th>\n",
       "      <th>1</th>\n",
       "      <th>2</th>\n",
       "      <th>3</th>\n",
       "      <th>4</th>\n",
       "      <th>5</th>\n",
       "      <th>6</th>\n",
       "      <th>7</th>\n",
       "      <th>8</th>\n",
       "      <th>9</th>\n",
       "      <th>10</th>\n",
       "    </tr>\n",
       "  </thead>\n",
       "  <tbody>\n",
       "    <tr>\n",
       "      <th>A</th>\n",
       "      <td>0.047249</td>\n",
       "      <td>0.044733</td>\n",
       "      <td>0.045937</td>\n",
       "      <td>0.137711</td>\n",
       "      <td>0.299082</td>\n",
       "      <td>0.060529</td>\n",
       "      <td>0.271329</td>\n",
       "      <td>0.404267</td>\n",
       "      <td>0.067389</td>\n",
       "      <td>0.636928</td>\n",
       "    </tr>\n",
       "    <tr>\n",
       "      <th>C</th>\n",
       "      <td>0.134624</td>\n",
       "      <td>0.348034</td>\n",
       "      <td>0.111466</td>\n",
       "      <td>0.099896</td>\n",
       "      <td>0.465236</td>\n",
       "      <td>0.282545</td>\n",
       "      <td>0.067572</td>\n",
       "      <td>0.415993</td>\n",
       "      <td>0.748316</td>\n",
       "      <td>0.069178</td>\n",
       "    </tr>\n",
       "    <tr>\n",
       "      <th>G</th>\n",
       "      <td>0.302670</td>\n",
       "      <td>0.334880</td>\n",
       "      <td>0.135946</td>\n",
       "      <td>0.071132</td>\n",
       "      <td>0.180755</td>\n",
       "      <td>0.069076</td>\n",
       "      <td>0.335384</td>\n",
       "      <td>0.077429</td>\n",
       "      <td>0.133704</td>\n",
       "      <td>0.059140</td>\n",
       "    </tr>\n",
       "    <tr>\n",
       "      <th>T</th>\n",
       "      <td>0.515457</td>\n",
       "      <td>0.272352</td>\n",
       "      <td>0.706651</td>\n",
       "      <td>0.691261</td>\n",
       "      <td>0.054927</td>\n",
       "      <td>0.587849</td>\n",
       "      <td>0.325715</td>\n",
       "      <td>0.102310</td>\n",
       "      <td>0.050590</td>\n",
       "      <td>0.234754</td>\n",
       "    </tr>\n",
       "  </tbody>\n",
       "</table>\n",
       "</div>"
      ],
      "text/plain": [
       "         1         2         3         4         5         6         7   \\\n",
       "A  0.047249  0.044733  0.045937  0.137711  0.299082  0.060529  0.271329   \n",
       "C  0.134624  0.348034  0.111466  0.099896  0.465236  0.282545  0.067572   \n",
       "G  0.302670  0.334880  0.135946  0.071132  0.180755  0.069076  0.335384   \n",
       "T  0.515457  0.272352  0.706651  0.691261  0.054927  0.587849  0.325715   \n",
       "\n",
       "         8         9         10  \n",
       "A  0.404267  0.067389  0.636928  \n",
       "C  0.415993  0.748316  0.069178  \n",
       "G  0.077429  0.133704  0.059140  \n",
       "T  0.102310  0.050590  0.234754  "
      ]
     },
     "execution_count": 13,
     "metadata": {},
     "output_type": "execute_result"
    }
   ],
   "source": [
    "fm = calculateProbabilities(C, background)\n",
    "print(f'\\n\\nFrequency matrix for C')\n",
    "fm"
   ]
  },
  {
   "cell_type": "code",
   "execution_count": 14,
   "metadata": {},
   "outputs": [
    {
     "name": "stdout",
     "output_type": "stream",
     "text": [
      "\n",
      "\n",
      "Frequency matrix for D\n"
     ]
    },
    {
     "data": {
      "text/html": [
       "<div>\n",
       "<style scoped>\n",
       "    .dataframe tbody tr th:only-of-type {\n",
       "        vertical-align: middle;\n",
       "    }\n",
       "\n",
       "    .dataframe tbody tr th {\n",
       "        vertical-align: top;\n",
       "    }\n",
       "\n",
       "    .dataframe thead th {\n",
       "        text-align: right;\n",
       "    }\n",
       "</style>\n",
       "<table border=\"1\" class=\"dataframe\">\n",
       "  <thead>\n",
       "    <tr style=\"text-align: right;\">\n",
       "      <th></th>\n",
       "      <th>1</th>\n",
       "      <th>2</th>\n",
       "      <th>3</th>\n",
       "      <th>4</th>\n",
       "      <th>5</th>\n",
       "      <th>6</th>\n",
       "      <th>7</th>\n",
       "      <th>8</th>\n",
       "      <th>9</th>\n",
       "      <th>10</th>\n",
       "    </tr>\n",
       "  </thead>\n",
       "  <tbody>\n",
       "    <tr>\n",
       "      <th>A</th>\n",
       "      <td>0.536489</td>\n",
       "      <td>0.350711</td>\n",
       "      <td>0.041791</td>\n",
       "      <td>0.873874</td>\n",
       "      <td>0.042250</td>\n",
       "      <td>0.05372</td>\n",
       "      <td>0.042175</td>\n",
       "      <td>0.041716</td>\n",
       "      <td>0.041692</td>\n",
       "      <td>0.041732</td>\n",
       "    </tr>\n",
       "    <tr>\n",
       "      <th>C</th>\n",
       "      <td>0.206934</td>\n",
       "      <td>0.389729</td>\n",
       "      <td>0.874765</td>\n",
       "      <td>0.041983</td>\n",
       "      <td>0.539664</td>\n",
       "      <td>0.86198</td>\n",
       "      <td>0.043109</td>\n",
       "      <td>0.042056</td>\n",
       "      <td>0.220297</td>\n",
       "      <td>0.193765</td>\n",
       "    </tr>\n",
       "    <tr>\n",
       "      <th>G</th>\n",
       "      <td>0.210141</td>\n",
       "      <td>0.217170</td>\n",
       "      <td>0.041719</td>\n",
       "      <td>0.041876</td>\n",
       "      <td>0.376260</td>\n",
       "      <td>0.04227</td>\n",
       "      <td>0.043774</td>\n",
       "      <td>0.874382</td>\n",
       "      <td>0.041713</td>\n",
       "      <td>0.054357</td>\n",
       "    </tr>\n",
       "    <tr>\n",
       "      <th>T</th>\n",
       "      <td>0.046435</td>\n",
       "      <td>0.042389</td>\n",
       "      <td>0.041725</td>\n",
       "      <td>0.042267</td>\n",
       "      <td>0.041826</td>\n",
       "      <td>0.04203</td>\n",
       "      <td>0.870942</td>\n",
       "      <td>0.041845</td>\n",
       "      <td>0.696298</td>\n",
       "      <td>0.710146</td>\n",
       "    </tr>\n",
       "  </tbody>\n",
       "</table>\n",
       "</div>"
      ],
      "text/plain": [
       "         1         2         3         4         5        6         7   \\\n",
       "A  0.536489  0.350711  0.041791  0.873874  0.042250  0.05372  0.042175   \n",
       "C  0.206934  0.389729  0.874765  0.041983  0.539664  0.86198  0.043109   \n",
       "G  0.210141  0.217170  0.041719  0.041876  0.376260  0.04227  0.043774   \n",
       "T  0.046435  0.042389  0.041725  0.042267  0.041826  0.04203  0.870942   \n",
       "\n",
       "         8         9         10  \n",
       "A  0.041716  0.041692  0.041732  \n",
       "C  0.042056  0.220297  0.193765  \n",
       "G  0.874382  0.041713  0.054357  \n",
       "T  0.041845  0.696298  0.710146  "
      ]
     },
     "execution_count": 14,
     "metadata": {},
     "output_type": "execute_result"
    }
   ],
   "source": [
    "fm = calculateProbabilities(D, background)\n",
    "print(f'\\n\\nFrequency matrix for D')\n",
    "fm"
   ]
  },
  {
   "cell_type": "markdown",
   "metadata": {},
   "source": [
    "# Evaluation\n",
    "\n",
    "### Plot Scores\n",
    "To use this as a \"gold standard\" against which to evaluate a motif, you scan each sequence with your motif WMM, scoring each of the 113-k+1 potential start positions."
   ]
  },
  {
   "cell_type": "code",
   "execution_count": 15,
   "metadata": {
    "scrolled": false
   },
   "outputs": [
    {
     "data": {
      "image/png": "[encoded data removed]",
      "text/plain": [
       "<Figure size 1008x288 with 2 Axes>"
      ]
     },
     "metadata": {},
     "output_type": "display_data"
    },
    {
     "data": {
      "image/png": "[encoded data removed]",
      "text/plain": [
       "<Figure size 1008x288 with 2 Axes>"
      ]
     },
     "metadata": {},
     "output_type": "display_data"
    },
    {
     "data": {
      "image/png": "[encoded data removed]",
      "text/plain": [
       "<Figure size 1008x288 with 2 Axes>"
      ]
     },
     "metadata": {},
     "output_type": "display_data"
    },
    {
     "data": {
      "image/png": "[encoded data removed]",
      "text/plain": [
       "<Figure size 1008x288 with 2 Axes>"
      ]
     },
     "metadata": {},
     "output_type": "display_data"
    }
   ],
   "source": [
    "evals = []\n",
    "for name, wmm in zip('ABCD', [A,B,C,D]):\n",
    "    eval = Evaluator(wmm, test_sequences)\n",
    "    eval.name = name\n",
    "    evals.append(eval)\n",
    "    eval.plot_results()\n",
    "\n",
    "    # combine scores and create y_true. Calculate ROC"
   ]
  },
  {
   "cell_type": "markdown",
   "metadata": {},
   "source": [
    "### Motif predicted position histogram\n",
    "1. Let c(j) be the count of the number of test sequences whose highest WMM score (leftmost highest, if ties) occurred at position j . Plot this histogram. \n",
    " \n",
    "2. Additionally, calculate and print m = arg max { c(j) | 1 ≤ j ≤ 113-k+1 }. \n",
    "    1. I.e., m is the most common location of the best motif hit in each sequence; \n",
    "    1. equivalently, it is the peak in the c(j) histogram.\n",
    "    1. If things are working correctly, most of the best motif hits should overlap the gold-standard location by at least k/2 positions, i.e., (51-⌊k/2⌋) ≤ m ≤ (63-⌈k/2⌉). "
   ]
  },
  {
   "cell_type": "code",
   "execution_count": 16,
   "metadata": {
    "scrolled": false
   },
   "outputs": [
    {
     "name": "stdout",
     "output_type": "stream",
     "text": [
      "Most common location of the best motif hit in each sequence = 51\n"
     ]
    },
    {
     "data": {
      "image/png": "[encoded data removed]",
      "text/plain": [
       "<Figure size 1008x144 with 1 Axes>"
      ]
     },
     "metadata": {},
     "output_type": "display_data"
    },
    {
     "name": "stdout",
     "output_type": "stream",
     "text": [
      "Most common location of the best motif hit in each sequence = 56\n"
     ]
    },
    {
     "data": {
      "image/png": "[encoded data removed]",
      "text/plain": [
       "<Figure size 1008x144 with 1 Axes>"
      ]
     },
     "metadata": {},
     "output_type": "display_data"
    },
    {
     "name": "stdout",
     "output_type": "stream",
     "text": [
      "Most common location of the best motif hit in each sequence = 58\n"
     ]
    },
    {
     "data": {
      "image/png": "[encoded data removed]",
      "text/plain": [
       "<Figure size 1008x144 with 1 Axes>"
      ]
     },
     "metadata": {},
     "output_type": "display_data"
    },
    {
     "name": "stdout",
     "output_type": "stream",
     "text": [
      "Most common location of the best motif hit in each sequence = 51\n"
     ]
    },
    {
     "data": {
      "image/png": "[encoded data removed]",
      "text/plain": [
       "<Figure size 1008x144 with 1 Axes>"
      ]
     },
     "metadata": {},
     "output_type": "display_data"
    }
   ],
   "source": [
    "\n",
    "motif_pos = 51\n",
    "# print('gold_start, gold_end = ',gold_start, gold_end)\n",
    "# print('Gold sequence = ',train_sequences[0][50:51+k])\n",
    "for  eval in evals:\n",
    "    eval.set_gold_positions()\n",
    "    eval.plot_highscore_histogram()"
   ]
  },
  {
   "cell_type": "code",
   "execution_count": 17,
   "metadata": {},
   "outputs": [
    {
     "data": {
      "text/plain": [
       "(46, 58)"
      ]
     },
     "execution_count": 17,
     "metadata": {},
     "output_type": "execute_result"
    }
   ],
   "source": [
    "eval.gold_start,eval.gold_end"
   ]
  },
  {
   "cell_type": "markdown",
   "metadata": {},
   "source": [
    "# ROC\n",
    "\n",
    "Generate an ROC plot for your motif, and calculate AUC. \n",
    "\n",
    "To do this for a test set containing n sequences, you will have n * (113 - k + 1) WMM scores, n of them labeled True, and the rest False. "
   ]
  },
  {
   "cell_type": "markdown",
   "metadata": {},
   "source": [
    "### ROC plot"
   ]
  },
  {
   "cell_type": "code",
   "execution_count": 18,
   "metadata": {},
   "outputs": [
    {
     "data": {
      "text/plain": [
       "<matplotlib.legend.Legend at 0x14568ff15e0>"
      ]
     },
     "execution_count": 18,
     "metadata": {},
     "output_type": "execute_result"
    },
    {
     "data": {
      "image/png": "[encoded data removed]",
      "text/plain": [
       "<Figure size 432x288 with 1 Axes>"
      ]
     },
     "metadata": {},
     "output_type": "display_data"
    }
   ],
   "source": [
    "from assignment3.roc import ROC\n",
    "import matplotlib.pyplot as plt\n",
    "rocs = []\n",
    "# plt.set_color_cycle(['red', 'black', 'yellow'])\n",
    "for eval in evals:\n",
    "    y_score, y_true = eval.get_y()\n",
    "    r = ROC(y_true, y_score)\n",
    "    rocs.append(r)\n",
    "    r.plot_roc()\n",
    "plt.legend([e.name for e in evals])"
   ]
  },
  {
   "cell_type": "code",
   "execution_count": 19,
   "metadata": {},
   "outputs": [
    {
     "data": {
      "text/plain": [
       "(130, (1040, 1))"
      ]
     },
     "execution_count": 19,
     "metadata": {},
     "output_type": "execute_result"
    }
   ],
   "source": [
    "y_true.sum(), y_true.shape"
   ]
  },
  {
   "cell_type": "markdown",
   "metadata": {},
   "source": [
    "### AUC"
   ]
  },
  {
   "cell_type": "code",
   "execution_count": 20,
   "metadata": {
    "scrolled": true
   },
   "outputs": [
    {
     "name": "stdout",
     "output_type": "stream",
     "text": [
      "AUC for WMM A = 0.552\n",
      "AUC for WMM B = 0.526\n",
      "AUC for WMM C = 0.523\n",
      "AUC for WMM D = 0.551\n"
     ]
    }
   ],
   "source": [
    "for eval, r in zip(evals, rocs):\n",
    "    print(f'AUC for WMM {eval.name} = {r.calculateAUC():.3f}')"
   ]
  },
  {
   "cell_type": "markdown",
   "metadata": {},
   "source": [
    "### Largest threshold\n",
    "for WMM C, what is the largest τ recovering all True Positives, how many False Positives, True Negatives and False Negatives are found with the same τ and what are the corresponding TPR and FPR values?\n",
    "\n",
    "C = lowest Entropy\n",
    "\n",
    "Reload a module:\n",
    "\n",
    "import importlib, then do importlib.reload(nameOfModule)\n",
    "https://stackoverflow.com/questions/1254370/reimport-a-module-in-python-while-interactive"
   ]
  },
  {
   "cell_type": "code",
   "execution_count": 21,
   "metadata": {},
   "outputs": [
    {
     "data": {
      "image/png": "[encoded data removed]",
      "text/plain": [
       "<Figure size 432x288 with 1 Axes>"
      ]
     },
     "metadata": {},
     "output_type": "display_data"
    }
   ],
   "source": [
    "r = rocs[2]\n",
    "plt.plot(r.thresholds,r.tprs)\n",
    "plt.xlabel('Threshold')\n",
    "plt.ylabel('TPR')\n",
    "plt.title('Threshold TPR curve for WMM C')\n",
    "plt.show()"
   ]
  },
  {
   "cell_type": "code",
   "execution_count": 22,
   "metadata": {},
   "outputs": [
    {
     "name": "stdout",
     "output_type": "stream",
     "text": [
      "WMM C: Largest Threshold with TPR 1 for = -15.839\n"
     ]
    }
   ],
   "source": [
    "t = r.largest_thres_TPR1()\n",
    "print(f'WMM C: Largest Threshold with TPR 1 for = {t:.3f}')"
   ]
  },
  {
   "cell_type": "code",
   "execution_count": 23,
   "metadata": {},
   "outputs": [
    {
     "name": "stdout",
     "output_type": "stream",
     "text": [
      "WMM C : At threshold f -15.839 , TPR = 1.0, FPR = 0.999, tp = 130, fp = 909, tn = 1, fn = 0\n"
     ]
    }
   ],
   "source": [
    "tpr, fpr, tp, fp, tn, fn = r.get_TPR_FPR_TP_FP_TN_FN(t)\n",
    "print('WMM C : At threshold f {:.3f} , TPR = {}, FPR = {:.3f}, tp = {}, fp = {}, tn = {}, fn = {}'.format(t, tpr, fpr, tp, fp, tn, fn))"
   ]
  },
  {
   "cell_type": "code",
   "execution_count": null,
   "metadata": {},
   "outputs": [],
   "source": []
  }
 ],
 "metadata": {
  "kernelspec": {
   "display_name": "Python 3",
   "language": "python",
   "name": "python3"
  },
  "language_info": {
   "codemirror_mode": {
    "name": "ipython",
    "version": 3
   },
   "file_extension": ".py",
   "mimetype": "text/x-python",
   "name": "python",
   "nbconvert_exporter": "python",
   "pygments_lexer": "ipython3",
   "version": "3.8.0"
  }
 },
 "nbformat": 4,
 "nbformat_minor": 4
}
