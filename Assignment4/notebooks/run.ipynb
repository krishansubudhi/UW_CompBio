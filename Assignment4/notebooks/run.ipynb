{
 "cells": [
  {
   "cell_type": "code",
   "execution_count": 1,
   "metadata": {},
   "outputs": [],
   "source": [
    "import sys\n",
    "sys.path.insert(0, '..')\n",
    "from assignment4.train import *\n",
    "from assignment4.utils import get_seqs_from_file"
   ]
  },
  {
   "cell_type": "code",
   "execution_count": 2,
   "metadata": {},
   "outputs": [],
   "source": [
    "emmisionP = pd.DataFrame([ [0.25]*4, \n",
    "                            [0.2,0.3,0.3,0.2] ], \n",
    "                            index = ['State 1','State 2'], columns = list('ACGT'))\n",
    "transitionP = pd.DataFrame([[0.9999, 0.0001],\n",
    "                            [0.9999,0.0001], \n",
    "                            [0.01, 0.99]], \n",
    "                            columns = ['State 1','State 2'], index = ['Begin','State 1','State 2'])\n",
    "\n",
    "sequence_all = get_seqs_from_file('../data/GCF_000091665.1_ASM9166v1_genomic.fna')[0]\n",
    "\n",
    "k = 10\n",
    "\n",
    "pseudo_count = 0.1"
   ]
  },
  {
   "cell_type": "code",
   "execution_count": 3,
   "metadata": {},
   "outputs": [
    {
     "name": "stdout",
     "output_type": "stream",
     "text": [
      "Length of the DNA is 1664970\n",
      "TACATTAGTGTTTATTACATTGAGAAACTTTATAATTAAAAAAGATTCAT ..... ATAATTTACGTTGCTAATTTTATTATCCGTAGGGCATTAATAATTAGAGC\n"
     ]
    }
   ],
   "source": [
    "print(f'Length of the DNA is {len(sequence_all)}')\n",
    "print(sequence_all[:50], '.....', sequence_all[-50:])"
   ]
  },
  {
   "cell_type": "code",
   "execution_count": 11,
   "metadata": {},
   "outputs": [],
   "source": [
    "sequence = sequence_all"
   ]
  },
  {
   "cell_type": "code",
   "execution_count": null,
   "metadata": {
    "scrolled": false
   },
   "outputs": [
    {
     "name": "stdout",
     "output_type": "stream",
     "text": [
      "\n",
      "\n",
      "************** Iteration 0 ************\n",
      "_______________________________________\n",
      "\n",
      "\n",
      "***Viterbi time iteration 0 = 11.88455581665039 seconds\n",
      "Emission Probability\n"
     ]
    },
    {
     "data": {
      "text/html": [
       "<div>\n",
       "<style scoped>\n",
       "    .dataframe tbody tr th:only-of-type {\n",
       "        vertical-align: middle;\n",
       "    }\n",
       "\n",
       "    .dataframe tbody tr th {\n",
       "        vertical-align: top;\n",
       "    }\n",
       "\n",
       "    .dataframe thead th {\n",
       "        text-align: right;\n",
       "    }\n",
       "</style>\n",
       "<table border=\"1\" class=\"dataframe\">\n",
       "  <thead>\n",
       "    <tr style=\"text-align: right;\">\n",
       "      <th></th>\n",
       "      <th>A</th>\n",
       "      <th>C</th>\n",
       "      <th>G</th>\n",
       "      <th>T</th>\n",
       "    </tr>\n",
       "  </thead>\n",
       "  <tbody>\n",
       "    <tr>\n",
       "      <th>State 1</th>\n",
       "      <td>0.25</td>\n",
       "      <td>0.25</td>\n",
       "      <td>0.25</td>\n",
       "      <td>0.25</td>\n",
       "    </tr>\n",
       "    <tr>\n",
       "      <th>State 2</th>\n",
       "      <td>0.20</td>\n",
       "      <td>0.30</td>\n",
       "      <td>0.30</td>\n",
       "      <td>0.20</td>\n",
       "    </tr>\n",
       "  </tbody>\n",
       "</table>\n",
       "</div>"
      ],
      "text/plain": [
       "            A     C     G     T\n",
       "State 1  0.25  0.25  0.25  0.25\n",
       "State 2  0.20  0.30  0.30  0.20"
      ]
     },
     "metadata": {},
     "output_type": "display_data"
    },
    {
     "name": "stdout",
     "output_type": "stream",
     "text": [
      "\n",
      "Transition Probability\n"
     ]
    },
    {
     "data": {
      "text/html": [
       "<div>\n",
       "<style scoped>\n",
       "    .dataframe tbody tr th:only-of-type {\n",
       "        vertical-align: middle;\n",
       "    }\n",
       "\n",
       "    .dataframe tbody tr th {\n",
       "        vertical-align: top;\n",
       "    }\n",
       "\n",
       "    .dataframe thead th {\n",
       "        text-align: right;\n",
       "    }\n",
       "</style>\n",
       "<table border=\"1\" class=\"dataframe\">\n",
       "  <thead>\n",
       "    <tr style=\"text-align: right;\">\n",
       "      <th></th>\n",
       "      <th>State 1</th>\n",
       "      <th>State 2</th>\n",
       "    </tr>\n",
       "  </thead>\n",
       "  <tbody>\n",
       "    <tr>\n",
       "      <th>Begin</th>\n",
       "      <td>0.9999</td>\n",
       "      <td>0.0001</td>\n",
       "    </tr>\n",
       "    <tr>\n",
       "      <th>State 1</th>\n",
       "      <td>0.9999</td>\n",
       "      <td>0.0001</td>\n",
       "    </tr>\n",
       "    <tr>\n",
       "      <th>State 2</th>\n",
       "      <td>0.0100</td>\n",
       "      <td>0.9900</td>\n",
       "    </tr>\n",
       "  </tbody>\n",
       "</table>\n",
       "</div>"
      ],
      "text/plain": [
       "         State 1  State 2\n",
       "Begin     0.9999   0.0001\n",
       "State 1   0.9999   0.0001\n",
       "State 2   0.0100   0.9900"
      ]
     },
     "metadata": {},
     "output_type": "display_data"
    },
    {
     "name": "stdout",
     "output_type": "stream",
     "text": [
      "\n",
      "Log probability of viterbi path=  -2308117.25052\n",
      "Path = ['State 1', 'State 1', 'State 1', 'State 1', 'State 1']..['State 1', 'State 1', 'State 1', 'State 1', 'State 1']\n",
      "\n",
      "hits\n"
     ]
    },
    {
     "data": {
      "text/html": [
       "<div>\n",
       "<style scoped>\n",
       "    .dataframe tbody tr th:only-of-type {\n",
       "        vertical-align: middle;\n",
       "    }\n",
       "\n",
       "    .dataframe tbody tr th {\n",
       "        vertical-align: top;\n",
       "    }\n",
       "\n",
       "    .dataframe thead th {\n",
       "        text-align: right;\n",
       "    }\n",
       "</style>\n",
       "<table border=\"1\" class=\"dataframe\">\n",
       "  <thead>\n",
       "    <tr style=\"text-align: right;\">\n",
       "      <th></th>\n",
       "      <th>state</th>\n",
       "      <th>start</th>\n",
       "      <th>end</th>\n",
       "      <th>length</th>\n",
       "    </tr>\n",
       "  </thead>\n",
       "  <tbody>\n",
       "    <tr>\n",
       "      <th>1</th>\n",
       "      <td>State 2</td>\n",
       "      <td>154651</td>\n",
       "      <td>159579</td>\n",
       "      <td>4929</td>\n",
       "    </tr>\n",
       "    <tr>\n",
       "      <th>2</th>\n",
       "      <td>State 2</td>\n",
       "      <td>638464</td>\n",
       "      <td>643447</td>\n",
       "      <td>4984</td>\n",
       "    </tr>\n",
       "  </tbody>\n",
       "</table>\n",
       "</div>"
      ],
      "text/plain": [
       "     state   start     end  length\n",
       "1  State 2  154651  159579    4929\n",
       "2  State 2  638464  643447    4984"
      ]
     },
     "metadata": {},
     "output_type": "display_data"
    },
    {
     "name": "stdout",
     "output_type": "stream",
     "text": [
      "1605991136.5335698finished count freq calculation\n",
      "\n",
      "\n",
      "************** Iteration 1 ************\n",
      "_______________________________________\n",
      "\n",
      "\n",
      "***Viterbi time iteration 1 = 11.730175256729126 seconds\n",
      "Emission Probability\n"
     ]
    },
    {
     "data": {
      "text/html": [
       "<div>\n",
       "<style scoped>\n",
       "    .dataframe tbody tr th:only-of-type {\n",
       "        vertical-align: middle;\n",
       "    }\n",
       "\n",
       "    .dataframe tbody tr th {\n",
       "        vertical-align: top;\n",
       "    }\n",
       "\n",
       "    .dataframe thead th {\n",
       "        text-align: right;\n",
       "    }\n",
       "</style>\n",
       "<table border=\"1\" class=\"dataframe\">\n",
       "  <thead>\n",
       "    <tr style=\"text-align: right;\">\n",
       "      <th></th>\n",
       "      <th>A</th>\n",
       "      <th>C</th>\n",
       "      <th>G</th>\n",
       "      <th>T</th>\n",
       "    </tr>\n",
       "  </thead>\n",
       "  <tbody>\n",
       "    <tr>\n",
       "      <th>State 1</th>\n",
       "      <td>0.345353</td>\n",
       "      <td>0.154403</td>\n",
       "      <td>0.157978</td>\n",
       "      <td>0.342266</td>\n",
       "    </tr>\n",
       "    <tr>\n",
       "      <th>State 2</th>\n",
       "      <td>0.186626</td>\n",
       "      <td>0.314635</td>\n",
       "      <td>0.313828</td>\n",
       "      <td>0.184911</td>\n",
       "    </tr>\n",
       "  </tbody>\n",
       "</table>\n",
       "</div>"
      ],
      "text/plain": [
       "                A         C         G         T\n",
       "State 1  0.345353  0.154403  0.157978  0.342266\n",
       "State 2  0.186626  0.314635  0.313828  0.184911"
      ]
     },
     "metadata": {},
     "output_type": "display_data"
    },
    {
     "name": "stdout",
     "output_type": "stream",
     "text": [
      "\n",
      "Transition Probability\n"
     ]
    },
    {
     "data": {
      "text/html": [
       "<div>\n",
       "<style scoped>\n",
       "    .dataframe tbody tr th:only-of-type {\n",
       "        vertical-align: middle;\n",
       "    }\n",
       "\n",
       "    .dataframe tbody tr th {\n",
       "        vertical-align: top;\n",
       "    }\n",
       "\n",
       "    .dataframe thead th {\n",
       "        text-align: right;\n",
       "    }\n",
       "</style>\n",
       "<table border=\"1\" class=\"dataframe\">\n",
       "  <thead>\n",
       "    <tr style=\"text-align: right;\">\n",
       "      <th></th>\n",
       "      <th>State 1</th>\n",
       "      <th>State 2</th>\n",
       "    </tr>\n",
       "  </thead>\n",
       "  <tbody>\n",
       "    <tr>\n",
       "      <th>Begin</th>\n",
       "      <td>0.999900</td>\n",
       "      <td>0.000100</td>\n",
       "    </tr>\n",
       "    <tr>\n",
       "      <th>State 1</th>\n",
       "      <td>0.999999</td>\n",
       "      <td>0.000001</td>\n",
       "    </tr>\n",
       "    <tr>\n",
       "      <th>State 2</th>\n",
       "      <td>0.000212</td>\n",
       "      <td>0.999788</td>\n",
       "    </tr>\n",
       "  </tbody>\n",
       "</table>\n",
       "</div>"
      ],
      "text/plain": [
       "          State 1   State 2\n",
       "Begin    0.999900  0.000100\n",
       "State 1  0.999999  0.000001\n",
       "State 2  0.000212  0.999788"
      ]
     },
     "metadata": {},
     "output_type": "display_data"
    },
    {
     "name": "stdout",
     "output_type": "stream",
     "text": [
      "\n",
      "Log probability of viterbi path=  -2188056.06471\n",
      "Path = ['State 1', 'State 1', 'State 1', 'State 1', 'State 1']..['State 1', 'State 1', 'State 1', 'State 1', 'State 1']\n",
      "\n",
      "hits\n"
     ]
    },
    {
     "data": {
      "text/html": [
       "<div>\n",
       "<style scoped>\n",
       "    .dataframe tbody tr th:only-of-type {\n",
       "        vertical-align: middle;\n",
       "    }\n",
       "\n",
       "    .dataframe tbody tr th {\n",
       "        vertical-align: top;\n",
       "    }\n",
       "\n",
       "    .dataframe thead th {\n",
       "        text-align: right;\n",
       "    }\n",
       "</style>\n",
       "<table border=\"1\" class=\"dataframe\">\n",
       "  <thead>\n",
       "    <tr style=\"text-align: right;\">\n",
       "      <th></th>\n",
       "      <th>state</th>\n",
       "      <th>start</th>\n",
       "      <th>end</th>\n",
       "      <th>length</th>\n",
       "    </tr>\n",
       "  </thead>\n",
       "  <tbody>\n",
       "    <tr>\n",
       "      <th>1</th>\n",
       "      <td>State 2</td>\n",
       "      <td>97326</td>\n",
       "      <td>97541</td>\n",
       "      <td>216</td>\n",
       "    </tr>\n",
       "    <tr>\n",
       "      <th>2</th>\n",
       "      <td>State 2</td>\n",
       "      <td>97627</td>\n",
       "      <td>97823</td>\n",
       "      <td>197</td>\n",
       "    </tr>\n",
       "    <tr>\n",
       "      <th>3</th>\n",
       "      <td>State 2</td>\n",
       "      <td>111764</td>\n",
       "      <td>111856</td>\n",
       "      <td>93</td>\n",
       "    </tr>\n",
       "    <tr>\n",
       "      <th>4</th>\n",
       "      <td>State 2</td>\n",
       "      <td>138345</td>\n",
       "      <td>138419</td>\n",
       "      <td>75</td>\n",
       "    </tr>\n",
       "    <tr>\n",
       "      <th>5</th>\n",
       "      <td>State 2</td>\n",
       "      <td>154610</td>\n",
       "      <td>159591</td>\n",
       "      <td>4982</td>\n",
       "    </tr>\n",
       "    <tr>\n",
       "      <th>6</th>\n",
       "      <td>State 2</td>\n",
       "      <td>186974</td>\n",
       "      <td>187067</td>\n",
       "      <td>94</td>\n",
       "    </tr>\n",
       "    <tr>\n",
       "      <th>7</th>\n",
       "      <td>State 2</td>\n",
       "      <td>190831</td>\n",
       "      <td>190907</td>\n",
       "      <td>77</td>\n",
       "    </tr>\n",
       "    <tr>\n",
       "      <th>8</th>\n",
       "      <td>State 2</td>\n",
       "      <td>215200</td>\n",
       "      <td>215296</td>\n",
       "      <td>97</td>\n",
       "    </tr>\n",
       "    <tr>\n",
       "      <th>9</th>\n",
       "      <td>State 2</td>\n",
       "      <td>303990</td>\n",
       "      <td>304080</td>\n",
       "      <td>91</td>\n",
       "    </tr>\n",
       "    <tr>\n",
       "      <th>10</th>\n",
       "      <td>State 2</td>\n",
       "      <td>358766</td>\n",
       "      <td>358942</td>\n",
       "      <td>177</td>\n",
       "    </tr>\n",
       "  </tbody>\n",
       "</table>\n",
       "</div>"
      ],
      "text/plain": [
       "      state   start     end  length\n",
       "1   State 2   97326   97541     216\n",
       "2   State 2   97627   97823     197\n",
       "3   State 2  111764  111856      93\n",
       "4   State 2  138345  138419      75\n",
       "5   State 2  154610  159591    4982\n",
       "6   State 2  186974  187067      94\n",
       "7   State 2  190831  190907      77\n",
       "8   State 2  215200  215296      97\n",
       "9   State 2  303990  304080      91\n",
       "10  State 2  358766  358942     177"
      ]
     },
     "metadata": {},
     "output_type": "display_data"
    },
    {
     "name": "stdout",
     "output_type": "stream",
     "text": [
      "1605991148.8430133finished count freq calculation\n",
      "\n",
      "\n",
      "************** Iteration 2 ************\n",
      "_______________________________________\n",
      "\n"
     ]
    }
   ],
   "source": [
    "total_iter = 10\n",
    "\n",
    "import time\n",
    "\n",
    "start = time.time()\n",
    "\n",
    "trainer = ViterbiTrain(sequence, emmisionP, transitionP, 'Begin', pseudo_count, debug = False)\n",
    "\n",
    "for i in range(total_iter + 1):\n",
    "    print(f'\\n\\n************** Iteration {i} ************')\n",
    "    print('_______________________________________\\n')\n",
    "    \n",
    "    start_viterbi = time.time()\n",
    "    path, v_all = trainer.expectation()\n",
    "    end_viterbi = time.time()\n",
    "    print(f'\\n***Viterbi time iteration {i} = {end_viterbi-start_viterbi} seconds')\n",
    "    \n",
    "#     print(f'{time.time()} macpath + traceback finished')\n",
    "    \n",
    "    trainer.viterbi.print(v_all, hit_state = 'State 2', path = path.copy(), k = 10 if i <10 else 0)\n",
    "    \n",
    "#     print(f'{time.time()} print finished')\n",
    "    \n",
    "    if i < total_iter:\n",
    "        trainer.maximization(path)\n",
    "#     print(f'{time.time()} maximization finished')\n",
    "end = time.time()\n",
    "print(f'Total time taken = {end-start} seconds')"
   ]
  },
  {
   "cell_type": "code",
   "execution_count": null,
   "metadata": {},
   "outputs": [],
   "source": []
  }
 ],
 "metadata": {
  "kernelspec": {
   "display_name": "Python 3",
   "language": "python",
   "name": "python3"
  },
  "language_info": {
   "codemirror_mode": {
    "name": "ipython",
    "version": 3
   },
   "file_extension": ".py",
   "mimetype": "text/x-python",
   "name": "python",
   "nbconvert_exporter": "python",
   "pygments_lexer": "ipython3",
   "version": "3.8.0"
  }
 },
 "nbformat": 4,
 "nbformat_minor": 4
}
