{
 "cells": [
  {
   "cell_type": "markdown",
   "metadata": {},
   "source": [
    "For kernel errors:\n",
    " \n",
    "    pip install --upgrade pywin32==224\n",
    "\n",
    "https://stackoverflow.com/questions/58612306/how-to-fix-importerror-dll-load-failed-while-importing-win32api"
   ]
  },
  {
   "cell_type": "code",
   "execution_count": 1,
   "metadata": {},
   "outputs": [],
   "source": [
    "%load_ext autoreload\n",
    "%autoreload 2\n",
    "# import importlib\n",
    "# importlib.reload(assignment5.markov)"
   ]
  },
  {
   "cell_type": "code",
   "execution_count": 2,
   "metadata": {},
   "outputs": [],
   "source": [
    "import sys\n",
    "sys.path.append('..')\n",
    "from assignment5.utils import get_seqs_from_file, get_reverse_complement, get_cds_from_file\n",
    "from assignment5.orf import ORFFinder, ORFAnalyzer\n",
    "from assignment5.markov import GeneModel\n",
    "import pandas as pd\n",
    "import numpy as np"
   ]
  },
  {
   "cell_type": "markdown",
   "metadata": {},
   "source": [
    "## Fetch Sequence"
   ]
  },
  {
   "cell_type": "code",
   "execution_count": 3,
   "metadata": {},
   "outputs": [
    {
     "data": {
      "text/html": [
       "<div>\n",
       "<style scoped>\n",
       "    .dataframe tbody tr th:only-of-type {\n",
       "        vertical-align: middle;\n",
       "    }\n",
       "\n",
       "    .dataframe tbody tr th {\n",
       "        vertical-align: top;\n",
       "    }\n",
       "\n",
       "    .dataframe thead th {\n",
       "        text-align: right;\n",
       "    }\n",
       "</style>\n",
       "<table border=\"1\" class=\"dataframe\">\n",
       "  <thead>\n",
       "    <tr style=\"text-align: right;\">\n",
       "      <th></th>\n",
       "      <th>start</th>\n",
       "      <th>end</th>\n",
       "      <th>length</th>\n",
       "      <th>frame</th>\n",
       "    </tr>\n",
       "  </thead>\n",
       "  <tbody>\n",
       "    <tr>\n",
       "      <th>0</th>\n",
       "      <td>1</td>\n",
       "      <td>36</td>\n",
       "      <td>36</td>\n",
       "      <td>1</td>\n",
       "    </tr>\n",
       "    <tr>\n",
       "      <th>1</th>\n",
       "      <td>40</td>\n",
       "      <td>51</td>\n",
       "      <td>12</td>\n",
       "      <td>1</td>\n",
       "    </tr>\n",
       "    <tr>\n",
       "      <th>2</th>\n",
       "      <td>55</td>\n",
       "      <td>72</td>\n",
       "      <td>18</td>\n",
       "      <td>1</td>\n",
       "    </tr>\n",
       "    <tr>\n",
       "      <th>3</th>\n",
       "      <td>76</td>\n",
       "      <td>81</td>\n",
       "      <td>6</td>\n",
       "      <td>1</td>\n",
       "    </tr>\n",
       "    <tr>\n",
       "      <th>4</th>\n",
       "      <td>85</td>\n",
       "      <td>87</td>\n",
       "      <td>3</td>\n",
       "      <td>1</td>\n",
       "    </tr>\n",
       "  </tbody>\n",
       "</table>\n",
       "</div>"
      ],
      "text/plain": [
       "   start  end  length  frame\n",
       "0      1   36      36      1\n",
       "1     40   51      12      1\n",
       "2     55   72      18      1\n",
       "3     76   81       6      1\n",
       "4     85   87       3      1"
      ]
     },
     "execution_count": 3,
     "metadata": {},
     "output_type": "execute_result"
    }
   ],
   "source": [
    "genome = get_seqs_from_file('../data/GCF_000091665.1_ASM9166v1_genomic.fna')[0]\n",
    "finder = ORFFinder(genome)\n",
    "orfs = [finder.get_all_orfs(rf ) for rf in (1,2,3)]\n",
    "orfs = pd.concat(orfs,ignore_index=True)\n",
    "#orfs = raw_orfs[raw_orfs.length>=5].copy()\n",
    "orfs.head()"
   ]
  },
  {
   "cell_type": "markdown",
   "metadata": {},
   "source": [
    "## Fetch Label"
   ]
  },
  {
   "cell_type": "code",
   "execution_count": 16,
   "metadata": {},
   "outputs": [
    {
     "data": {
      "text/plain": [
       "848"
      ]
     },
     "execution_count": 16,
     "metadata": {},
     "output_type": "execute_result"
    }
   ],
   "source": [
    "cds = np.array(get_cds_from_file('../data/GCF_000091665.1_ASM9166v1_genomic.gff'))\n",
    "true_orf_end = set(end-3 if  genome[end-3:end] in finder.stop_codons else end for end in cds[:,1])\n",
    "len(true_orf_end)"
   ]
  },
  {
   "cell_type": "markdown",
   "metadata": {},
   "source": [
    "## Create Markov model"
   ]
  },
  {
   "cell_type": "code",
   "execution_count": 71,
   "metadata": {},
   "outputs": [],
   "source": [
    "analyzer = ORFAnalyzer(orfs)\n",
    "long_orfs = analyzer.get_long_ofs()\n",
    "positive_seqs = finder.get_sequences(long_orfs)\n",
    "bg_seqs = [get_reverse_complement(seq) for seq in positive_seqs]\n",
    "\n",
    "model = GeneModel(k = 5, pseudo_count=1)\n",
    "model.build(positive_seqs, bg_seqs)\n"
   ]
  },
  {
   "cell_type": "code",
   "execution_count": 72,
   "metadata": {},
   "outputs": [
    {
     "name": "stdout",
     "output_type": "stream",
     "text": [
      "Foreground T|AAGxy counts\n",
      "     A   C    G    T\n",
      "A  307  51  223  394\n",
      "C  104  15   12  119\n",
      "G  211  42   39  218\n",
      "T  148  19   68  198\n",
      "Background T|AAGxy counts\n",
      "     A   C   G    T\n",
      "A   90  26  48   95\n",
      "C   87  22  15  119\n",
      "G   41  20  26   59\n",
      "T  139  39  64  175\n"
     ]
    }
   ],
   "source": [
    "model.print_sample_counts()"
   ]
  },
  {
   "cell_type": "markdown",
   "metadata": {},
   "source": [
    "## Merge Everything"
   ]
  },
  {
   "cell_type": "code",
   "execution_count": 73,
   "metadata": {},
   "outputs": [
    {
     "data": {
      "text/html": [
       "<div>\n",
       "<style scoped>\n",
       "    .dataframe tbody tr th:only-of-type {\n",
       "        vertical-align: middle;\n",
       "    }\n",
       "\n",
       "    .dataframe tbody tr th {\n",
       "        vertical-align: top;\n",
       "    }\n",
       "\n",
       "    .dataframe thead th {\n",
       "        text-align: right;\n",
       "    }\n",
       "</style>\n",
       "<table border=\"1\" class=\"dataframe\">\n",
       "  <thead>\n",
       "    <tr style=\"text-align: right;\">\n",
       "      <th></th>\n",
       "      <th>start</th>\n",
       "      <th>end</th>\n",
       "      <th>length</th>\n",
       "      <th>frame</th>\n",
       "      <th>isCDS</th>\n",
       "      <th>scores</th>\n",
       "    </tr>\n",
       "  </thead>\n",
       "  <tbody>\n",
       "    <tr>\n",
       "      <th>0</th>\n",
       "      <td>1</td>\n",
       "      <td>36</td>\n",
       "      <td>36</td>\n",
       "      <td>1</td>\n",
       "      <td>False</td>\n",
       "      <td>1.181405</td>\n",
       "    </tr>\n",
       "    <tr>\n",
       "      <th>1</th>\n",
       "      <td>40</td>\n",
       "      <td>51</td>\n",
       "      <td>12</td>\n",
       "      <td>1</td>\n",
       "      <td>False</td>\n",
       "      <td>2.758633</td>\n",
       "    </tr>\n",
       "    <tr>\n",
       "      <th>2</th>\n",
       "      <td>55</td>\n",
       "      <td>72</td>\n",
       "      <td>18</td>\n",
       "      <td>1</td>\n",
       "      <td>False</td>\n",
       "      <td>-2.459251</td>\n",
       "    </tr>\n",
       "    <tr>\n",
       "      <th>3</th>\n",
       "      <td>76</td>\n",
       "      <td>81</td>\n",
       "      <td>6</td>\n",
       "      <td>1</td>\n",
       "      <td>False</td>\n",
       "      <td>0.568646</td>\n",
       "    </tr>\n",
       "    <tr>\n",
       "      <th>4</th>\n",
       "      <td>85</td>\n",
       "      <td>87</td>\n",
       "      <td>3</td>\n",
       "      <td>1</td>\n",
       "      <td>False</td>\n",
       "      <td>NaN</td>\n",
       "    </tr>\n",
       "  </tbody>\n",
       "</table>\n",
       "</div>"
      ],
      "text/plain": [
       "   start  end  length  frame  isCDS    scores\n",
       "0      1   36      36      1  False  1.181405\n",
       "1     40   51      12      1  False  2.758633\n",
       "2     55   72      18      1  False -2.459251\n",
       "3     76   81       6      1  False  0.568646\n",
       "4     85   87       3      1  False       NaN"
      ]
     },
     "execution_count": 73,
     "metadata": {},
     "output_type": "execute_result"
    }
   ],
   "source": [
    "\n",
    "truth = [True if end in true_orf_end else False for end in orfs.end]\n",
    "orfs['isCDS'] = truth\n",
    "\n",
    "orf_sequences = finder.get_sequences(orfs)\n",
    "scores = [model.get_loglikelihood_ratio(seq) if len(seq)>=5 else np.nan for seq in orf_sequences ]\n",
    "orfs['scores'] = scores\n",
    "\n",
    "orfs.head()"
   ]
  },
  {
   "cell_type": "markdown",
   "metadata": {},
   "source": [
    "# Results"
   ]
  },
  {
   "cell_type": "code",
   "execution_count": 74,
   "metadata": {},
   "outputs": [
    {
     "name": "stdout",
     "output_type": "stream",
     "text": [
      "\n",
      "Reading Frame :  1\n",
      "Number of ORFs =  35200\n",
      "Summary of the first and last : \n"
     ]
    },
    {
     "data": {
      "text/html": [
       "<div>\n",
       "<style scoped>\n",
       "    .dataframe tbody tr th:only-of-type {\n",
       "        vertical-align: middle;\n",
       "    }\n",
       "\n",
       "    .dataframe tbody tr th {\n",
       "        vertical-align: top;\n",
       "    }\n",
       "\n",
       "    .dataframe thead th {\n",
       "        text-align: right;\n",
       "    }\n",
       "</style>\n",
       "<table border=\"1\" class=\"dataframe\">\n",
       "  <thead>\n",
       "    <tr style=\"text-align: right;\">\n",
       "      <th></th>\n",
       "      <th>start</th>\n",
       "      <th>end</th>\n",
       "      <th>length</th>\n",
       "      <th>frame</th>\n",
       "      <th>isCDS</th>\n",
       "      <th>scores</th>\n",
       "    </tr>\n",
       "  </thead>\n",
       "  <tbody>\n",
       "    <tr>\n",
       "      <th>0</th>\n",
       "      <td>1</td>\n",
       "      <td>36</td>\n",
       "      <td>36</td>\n",
       "      <td>1</td>\n",
       "      <td>False</td>\n",
       "      <td>1.181405</td>\n",
       "    </tr>\n",
       "    <tr>\n",
       "      <th>35199</th>\n",
       "      <td>1664968</td>\n",
       "      <td>1664970</td>\n",
       "      <td>3</td>\n",
       "      <td>1</td>\n",
       "      <td>False</td>\n",
       "      <td>NaN</td>\n",
       "    </tr>\n",
       "  </tbody>\n",
       "</table>\n",
       "</div>"
      ],
      "text/plain": [
       "         start      end  length  frame  isCDS    scores\n",
       "0            1       36      36      1  False  1.181405\n",
       "35199  1664968  1664970       3      1  False       NaN"
      ]
     },
     "metadata": {},
     "output_type": "display_data"
    },
    {
     "name": "stdout",
     "output_type": "stream",
     "text": [
      "\n",
      "Reading Frame :  2\n",
      "Number of ORFs =  35933\n",
      "Summary of the first and last : \n"
     ]
    },
    {
     "data": {
      "text/html": [
       "<div>\n",
       "<style scoped>\n",
       "    .dataframe tbody tr th:only-of-type {\n",
       "        vertical-align: middle;\n",
       "    }\n",
       "\n",
       "    .dataframe tbody tr th {\n",
       "        vertical-align: top;\n",
       "    }\n",
       "\n",
       "    .dataframe thead th {\n",
       "        text-align: right;\n",
       "    }\n",
       "</style>\n",
       "<table border=\"1\" class=\"dataframe\">\n",
       "  <thead>\n",
       "    <tr style=\"text-align: right;\">\n",
       "      <th></th>\n",
       "      <th>start</th>\n",
       "      <th>end</th>\n",
       "      <th>length</th>\n",
       "      <th>frame</th>\n",
       "      <th>isCDS</th>\n",
       "      <th>scores</th>\n",
       "    </tr>\n",
       "  </thead>\n",
       "  <tbody>\n",
       "    <tr>\n",
       "      <th>35200</th>\n",
       "      <td>2</td>\n",
       "      <td>94</td>\n",
       "      <td>93</td>\n",
       "      <td>2</td>\n",
       "      <td>False</td>\n",
       "      <td>2.557823</td>\n",
       "    </tr>\n",
       "    <tr>\n",
       "      <th>71132</th>\n",
       "      <td>1664921</td>\n",
       "      <td>1664968</td>\n",
       "      <td>48</td>\n",
       "      <td>2</td>\n",
       "      <td>False</td>\n",
       "      <td>-1.381238</td>\n",
       "    </tr>\n",
       "  </tbody>\n",
       "</table>\n",
       "</div>"
      ],
      "text/plain": [
       "         start      end  length  frame  isCDS    scores\n",
       "35200        2       94      93      2  False  2.557823\n",
       "71132  1664921  1664968      48      2  False -1.381238"
      ]
     },
     "metadata": {},
     "output_type": "display_data"
    },
    {
     "name": "stdout",
     "output_type": "stream",
     "text": [
      "\n",
      "Reading Frame :  3\n",
      "Number of ORFs =  35686\n",
      "Summary of the first and last : \n"
     ]
    },
    {
     "data": {
      "text/html": [
       "<div>\n",
       "<style scoped>\n",
       "    .dataframe tbody tr th:only-of-type {\n",
       "        vertical-align: middle;\n",
       "    }\n",
       "\n",
       "    .dataframe tbody tr th {\n",
       "        vertical-align: top;\n",
       "    }\n",
       "\n",
       "    .dataframe thead th {\n",
       "        text-align: right;\n",
       "    }\n",
       "</style>\n",
       "<table border=\"1\" class=\"dataframe\">\n",
       "  <thead>\n",
       "    <tr style=\"text-align: right;\">\n",
       "      <th></th>\n",
       "      <th>start</th>\n",
       "      <th>end</th>\n",
       "      <th>length</th>\n",
       "      <th>frame</th>\n",
       "      <th>isCDS</th>\n",
       "      <th>scores</th>\n",
       "    </tr>\n",
       "  </thead>\n",
       "  <tbody>\n",
       "    <tr>\n",
       "      <th>71133</th>\n",
       "      <td>3</td>\n",
       "      <td>5</td>\n",
       "      <td>3</td>\n",
       "      <td>3</td>\n",
       "      <td>False</td>\n",
       "      <td>NaN</td>\n",
       "    </tr>\n",
       "    <tr>\n",
       "      <th>106818</th>\n",
       "      <td>1664964</td>\n",
       "      <td>1664969</td>\n",
       "      <td>6</td>\n",
       "      <td>3</td>\n",
       "      <td>False</td>\n",
       "      <td>1.869675</td>\n",
       "    </tr>\n",
       "  </tbody>\n",
       "</table>\n",
       "</div>"
      ],
      "text/plain": [
       "          start      end  length  frame  isCDS    scores\n",
       "71133         3        5       3      3  False       NaN\n",
       "106818  1664964  1664969       6      3  False  1.869675"
      ]
     },
     "metadata": {},
     "output_type": "display_data"
    }
   ],
   "source": [
    "for rf in (1,2,3):\n",
    "    rf_orf = orfs[orfs.frame == rf]\n",
    "    print('\\nReading Frame : ', rf)\n",
    "    print( 'Number of ORFs = ', len(rf_orf))\n",
    "    print('Summary of the first and last : ')\n",
    "    display(rf_orf.sort_values('start').iloc[[0,-1]])"
   ]
  },
  {
   "cell_type": "code",
   "execution_count": 75,
   "metadata": {},
   "outputs": [
    {
     "name": "stdout",
     "output_type": "stream",
     "text": [
      "The total number of short ORFs =  81738\n",
      "The total number of long ORFs =  118\n"
     ]
    }
   ],
   "source": [
    "print('The total number of short ORFs = ', len(orfs[orfs.length<50]) )\n",
    "print('The total number of long ORFs = ', len(orfs[orfs.length>1400]) )"
   ]
  },
  {
   "cell_type": "code",
   "execution_count": 76,
   "metadata": {},
   "outputs": [
    {
     "name": "stdout",
     "output_type": "stream",
     "text": [
      "The total number of simple plus strand CDSs found in GenBank =  848\n"
     ]
    }
   ],
   "source": [
    "print(\"The total number of simple plus strand CDSs found in GenBank = \", len(true_orf_end))"
   ]
  },
  {
   "cell_type": "code",
   "execution_count": 77,
   "metadata": {},
   "outputs": [
    {
     "name": "stdout",
     "output_type": "stream",
     "text": [
      "P(T | AAGxy), Q(T | AAGxy) for the 16 possible combinations of x,y in A,C,G,T :\n",
      "Foreground T|AAGxy counts\n",
      "     A   C    G    T\n",
      "A  307  51  223  394\n",
      "C  104  15   12  119\n",
      "G  211  42   39  218\n",
      "T  148  19   68  198\n",
      "Background T|AAGxy counts\n",
      "     A   C   G    T\n",
      "A   90  26  48   95\n",
      "C   87  22  15  119\n",
      "G   41  20  26   59\n",
      "T  139  39  64  175\n"
     ]
    }
   ],
   "source": [
    "print('P(T | AAGxy), Q(T | AAGxy) for the 16 possible combinations of x,y in A,C,G,T :')\n",
    "model.print_sample_counts()"
   ]
  },
  {
   "cell_type": "code",
   "execution_count": 78,
   "metadata": {},
   "outputs": [
    {
     "name": "stdout",
     "output_type": "stream",
     "text": [
      "summary data for the first 5 short ORFs\n"
     ]
    },
    {
     "data": {
      "text/html": [
       "<div>\n",
       "<style scoped>\n",
       "    .dataframe tbody tr th:only-of-type {\n",
       "        vertical-align: middle;\n",
       "    }\n",
       "\n",
       "    .dataframe tbody tr th {\n",
       "        vertical-align: top;\n",
       "    }\n",
       "\n",
       "    .dataframe thead th {\n",
       "        text-align: right;\n",
       "    }\n",
       "</style>\n",
       "<table border=\"1\" class=\"dataframe\">\n",
       "  <thead>\n",
       "    <tr style=\"text-align: right;\">\n",
       "      <th></th>\n",
       "      <th>start</th>\n",
       "      <th>end</th>\n",
       "      <th>length</th>\n",
       "      <th>frame</th>\n",
       "      <th>isCDS</th>\n",
       "      <th>scores</th>\n",
       "    </tr>\n",
       "  </thead>\n",
       "  <tbody>\n",
       "    <tr>\n",
       "      <th>0</th>\n",
       "      <td>1</td>\n",
       "      <td>36</td>\n",
       "      <td>36</td>\n",
       "      <td>1</td>\n",
       "      <td>False</td>\n",
       "      <td>1.181405</td>\n",
       "    </tr>\n",
       "    <tr>\n",
       "      <th>71133</th>\n",
       "      <td>3</td>\n",
       "      <td>5</td>\n",
       "      <td>3</td>\n",
       "      <td>3</td>\n",
       "      <td>False</td>\n",
       "      <td>NaN</td>\n",
       "    </tr>\n",
       "    <tr>\n",
       "      <th>71134</th>\n",
       "      <td>9</td>\n",
       "      <td>20</td>\n",
       "      <td>12</td>\n",
       "      <td>3</td>\n",
       "      <td>False</td>\n",
       "      <td>-0.463650</td>\n",
       "    </tr>\n",
       "    <tr>\n",
       "      <th>71135</th>\n",
       "      <td>24</td>\n",
       "      <td>32</td>\n",
       "      <td>9</td>\n",
       "      <td>3</td>\n",
       "      <td>False</td>\n",
       "      <td>0.890789</td>\n",
       "    </tr>\n",
       "    <tr>\n",
       "      <th>1</th>\n",
       "      <td>40</td>\n",
       "      <td>51</td>\n",
       "      <td>12</td>\n",
       "      <td>1</td>\n",
       "      <td>False</td>\n",
       "      <td>2.758633</td>\n",
       "    </tr>\n",
       "  </tbody>\n",
       "</table>\n",
       "</div>"
      ],
      "text/plain": [
       "       start  end  length  frame  isCDS    scores\n",
       "0          1   36      36      1  False  1.181405\n",
       "71133      3    5       3      3  False       NaN\n",
       "71134      9   20      12      3  False -0.463650\n",
       "71135     24   32       9      3  False  0.890789\n",
       "1         40   51      12      1  False  2.758633"
      ]
     },
     "metadata": {},
     "output_type": "display_data"
    },
    {
     "name": "stdout",
     "output_type": "stream",
     "text": [
      "summary data for the the first 5 long ORFs\n"
     ]
    },
    {
     "data": {
      "text/html": [
       "<div>\n",
       "<style scoped>\n",
       "    .dataframe tbody tr th:only-of-type {\n",
       "        vertical-align: middle;\n",
       "    }\n",
       "\n",
       "    .dataframe tbody tr th {\n",
       "        vertical-align: top;\n",
       "    }\n",
       "\n",
       "    .dataframe thead th {\n",
       "        text-align: right;\n",
       "    }\n",
       "</style>\n",
       "<table border=\"1\" class=\"dataframe\">\n",
       "  <thead>\n",
       "    <tr style=\"text-align: right;\">\n",
       "      <th></th>\n",
       "      <th>start</th>\n",
       "      <th>end</th>\n",
       "      <th>length</th>\n",
       "      <th>frame</th>\n",
       "      <th>isCDS</th>\n",
       "      <th>scores</th>\n",
       "    </tr>\n",
       "  </thead>\n",
       "  <tbody>\n",
       "    <tr>\n",
       "      <th>71526</th>\n",
       "      <td>17619</td>\n",
       "      <td>19229</td>\n",
       "      <td>1611</td>\n",
       "      <td>3</td>\n",
       "      <td>True</td>\n",
       "      <td>166.509569</td>\n",
       "    </tr>\n",
       "    <tr>\n",
       "      <th>36031</th>\n",
       "      <td>33626</td>\n",
       "      <td>35245</td>\n",
       "      <td>1620</td>\n",
       "      <td>2</td>\n",
       "      <td>True</td>\n",
       "      <td>208.460996</td>\n",
       "    </tr>\n",
       "    <tr>\n",
       "      <th>36169</th>\n",
       "      <td>42725</td>\n",
       "      <td>45109</td>\n",
       "      <td>2385</td>\n",
       "      <td>2</td>\n",
       "      <td>True</td>\n",
       "      <td>258.774328</td>\n",
       "    </tr>\n",
       "    <tr>\n",
       "      <th>72661</th>\n",
       "      <td>74592</td>\n",
       "      <td>76010</td>\n",
       "      <td>1419</td>\n",
       "      <td>3</td>\n",
       "      <td>True</td>\n",
       "      <td>138.186040</td>\n",
       "    </tr>\n",
       "    <tr>\n",
       "      <th>36888</th>\n",
       "      <td>76820</td>\n",
       "      <td>78481</td>\n",
       "      <td>1662</td>\n",
       "      <td>2</td>\n",
       "      <td>True</td>\n",
       "      <td>202.815509</td>\n",
       "    </tr>\n",
       "  </tbody>\n",
       "</table>\n",
       "</div>"
      ],
      "text/plain": [
       "       start    end  length  frame  isCDS      scores\n",
       "71526  17619  19229    1611      3   True  166.509569\n",
       "36031  33626  35245    1620      2   True  208.460996\n",
       "36169  42725  45109    2385      2   True  258.774328\n",
       "72661  74592  76010    1419      3   True  138.186040\n",
       "36888  76820  78481    1662      2   True  202.815509"
      ]
     },
     "metadata": {},
     "output_type": "display_data"
    }
   ],
   "source": [
    "print('summary data for the first 5 short ORFs')\n",
    "display(orfs[orfs.length<50].sort_values('start').head(5))\n",
    "\n",
    "print('summary data for the the first 5 long ORFs')\n",
    "display(orfs[orfs.length>1400].sort_values('start').head(5))"
   ]
  },
  {
   "cell_type": "markdown",
   "metadata": {},
   "source": [
    "### CDSs without stop codon at the end"
   ]
  },
  {
   "cell_type": "code",
   "execution_count": 79,
   "metadata": {},
   "outputs": [
    {
     "name": "stdout",
     "output_type": "stream",
     "text": [
      "ORFS which are CDS = 842, Total CDSs = 848\n",
      "755683 TCG TCGTTA\n",
      "742666 CCA CCACTG\n",
      "754669 AAA AAATCA\n",
      "1563085 TTT TTTTGG\n",
      "753619 GAT GATAAA\n",
      "15774 GGT GGTTCG\n"
     ]
    }
   ],
   "source": [
    "print(f'ORFS which are CDS = {orfs.isCDS.sum()}, Total CDSs = {len(true_orf_end)}')\n",
    "tend = true_orf_end.copy()\n",
    "#stop_codons = {'TAA', 'TAG', 'TGA'}\n",
    "for x in tend-set(orfs.end):\n",
    "    print(x, genome[x-3:x], genome[x-3:x+3])"
   ]
  }
 ],
 "metadata": {
  "kernelspec": {
   "display_name": "Python 3",
   "language": "python",
   "name": "python3"
  },
  "language_info": {
   "codemirror_mode": {
    "name": "ipython",
    "version": 3
   },
   "file_extension": ".py",
   "mimetype": "text/x-python",
   "name": "python",
   "nbconvert_exporter": "python",
   "pygments_lexer": "ipython3",
   "version": "3.8.5"
  }
 },
 "nbformat": 4,
 "nbformat_minor": 4
}
